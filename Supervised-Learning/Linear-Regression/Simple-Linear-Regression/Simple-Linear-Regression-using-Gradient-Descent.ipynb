{
 "cells": [
  {
   "cell_type": "code",
   "execution_count": null,
   "id": "e6136cb3-8809-4df6-b4dc-0a9720578e0b",
   "metadata": {},
   "outputs": [],
   "source": [
    "%config IPCompleter.use_jedi = False\n",
    "%config Completer.evaluation = 'limited'\n",
    "import warnings\n",
    "warnings.filterwarnings('ignore')"
   ]
  },
  {
   "cell_type": "code",
   "execution_count": 1,
   "id": "5eca3588-06c1-4059-82d0-b95ec67c3d55",
   "metadata": {},
   "outputs": [],
   "source": [
    "import numpy as np \n",
    "import pandas as pd \n",
    "import matplotlib.pyplot as plt "
   ]
  },
  {
   "cell_type": "markdown",
   "id": "07319188-19e7-4fae-a633-99ab2cc92077",
   "metadata": {},
   "source": [
    "<h2> Let's Make the Linear Regression Class"
   ]
  },
  {
   "cell_type": "code",
   "execution_count": 2,
   "id": "d7a1d859-5263-45bf-9e8c-0960f75c9dbb",
   "metadata": {},
   "outputs": [],
   "source": [
    "import numpy as np\n",
    "\n",
    "class LinearRegression:\n",
    "    # constructor\n",
    "    def __init__(self):\n",
    "        self.m = None\n",
    "        self.b = None \n",
    "        self.learning_rate = None \n",
    "        self.epochs = None \n",
    "        \n",
    "    # gradient descent where we will find the value of m and b \n",
    "    # equation: y = mx + b \n",
    "    # where m is the slope or called weight , and b is called intercept(bias)\n",
    "    # we will use gradient descent to minimize the mean squared error [MSE]\n",
    "    def gradient_descent(self , X_train , y_train , learning_rate , epochs):\n",
    "        # set the learning rate\n",
    "        self.learning_rate = learning_rate\n",
    "        # In gradient descent we start with m and b by initializing 0\n",
    "        self.m , self.b = 0 , 0\n",
    "\n",
    "        # In gradient descent we perform a finite steps to find the value of m and b which is called epoch\n",
    "        self.epochs = epochs\n",
    "        n = len(X_train) # size of the data\n",
    "\n",
    "        # Now perform the task\n",
    "        for epoch in range(self.epochs):\n",
    "            # Predict y using current m and b\n",
    "            y_pred = self.m * X_train + self.b\n",
    "\n",
    "            # Find derivative with respect to m\n",
    "            dm = (-2 / n) * sum(X_train * (y_train - y_pred))\n",
    "            # Find derivative with respect to b \n",
    "            db = (-2 / n) * sum((y_train - y_pred))\n",
    "\n",
    "            # update m and b \n",
    "            self.m = self.m - self.learning_rate * dm\n",
    "            self.b = self.b - self.learning_rate * db\n",
    "\n",
    "            # See the update at each 20th iteration\n",
    "            if epoch % 20 == 0:\n",
    "               print(f\"Iteration = {epoch} - m : {self.m} - b = {self.b}\")\n",
    "            \n",
    "    # Make the predict function\n",
    "    def predict(self , X_test):\n",
    "        # Task for each value x find y = mx + b \n",
    "        return self.m * X_test + self.b \n",
    "         \n",
    "    # Make MAE\n",
    "    def mae(self , y_test , y_pred):\n",
    "        return np.mean(np.abs(y_test - y_pred))\n",
    "    \n",
    "    # Make MSE\n",
    "    def mse(self , y_test , y_pred):\n",
    "        error = (y_test - y_pred) ** 2\n",
    "        return error.mean()\n",
    "    \n",
    "    # Make RMSE\n",
    "    def rmse(self , y_test , y_pred):\n",
    "        return np.sqrt(self.mse(y_test, y_pred))\n",
    "    \n",
    "    # Find R2 score\n",
    "    def r2_score(self , y_test , y_pred):\n",
    "        # Find the sum of squared error in the regression line \n",
    "        ssr = np.sum((y_test - y_pred) ** 2)\n",
    "        # Find the total sum of squares (difference from mean line)\n",
    "        sst = np.sum((y_test - np.mean(y_test)) ** 2)\n",
    "        return 1 - (ssr / sst)\n"
   ]
  },
  {
   "cell_type": "code",
   "execution_count": null,
   "id": "c7f9f8e4-6e64-4d94-9f0b-6eb9c60e7617",
   "metadata": {},
   "outputs": [],
   "source": []
  },
  {
   "cell_type": "code",
   "execution_count": null,
   "id": "e24121df-f52f-44d2-a405-fa87785d1a1c",
   "metadata": {},
   "outputs": [],
   "source": []
  },
  {
   "cell_type": "markdown",
   "id": "3d5fbb75-1ee7-401e-817c-44c67fb4c093",
   "metadata": {},
   "source": [
    "<h2> Load the data"
   ]
  },
  {
   "cell_type": "code",
   "execution_count": 3,
   "id": "1fb4fb45-8d17-45e8-ac5b-72ca5b7771c3",
   "metadata": {},
   "outputs": [
    {
     "data": {
      "text/html": [
       "<div>\n",
       "<style scoped>\n",
       "    .dataframe tbody tr th:only-of-type {\n",
       "        vertical-align: middle;\n",
       "    }\n",
       "\n",
       "    .dataframe tbody tr th {\n",
       "        vertical-align: top;\n",
       "    }\n",
       "\n",
       "    .dataframe thead th {\n",
       "        text-align: right;\n",
       "    }\n",
       "</style>\n",
       "<table border=\"1\" class=\"dataframe\">\n",
       "  <thead>\n",
       "    <tr style=\"text-align: right;\">\n",
       "      <th></th>\n",
       "      <th>cgpa</th>\n",
       "      <th>package</th>\n",
       "    </tr>\n",
       "  </thead>\n",
       "  <tbody>\n",
       "    <tr>\n",
       "      <th>0</th>\n",
       "      <td>6.89</td>\n",
       "      <td>3.26</td>\n",
       "    </tr>\n",
       "    <tr>\n",
       "      <th>1</th>\n",
       "      <td>5.12</td>\n",
       "      <td>1.98</td>\n",
       "    </tr>\n",
       "    <tr>\n",
       "      <th>2</th>\n",
       "      <td>7.82</td>\n",
       "      <td>3.25</td>\n",
       "    </tr>\n",
       "    <tr>\n",
       "      <th>3</th>\n",
       "      <td>7.42</td>\n",
       "      <td>3.67</td>\n",
       "    </tr>\n",
       "    <tr>\n",
       "      <th>4</th>\n",
       "      <td>6.94</td>\n",
       "      <td>3.57</td>\n",
       "    </tr>\n",
       "  </tbody>\n",
       "</table>\n",
       "</div>"
      ],
      "text/plain": [
       "   cgpa  package\n",
       "0  6.89     3.26\n",
       "1  5.12     1.98\n",
       "2  7.82     3.25\n",
       "3  7.42     3.67\n",
       "4  6.94     3.57"
      ]
     },
     "execution_count": 3,
     "metadata": {},
     "output_type": "execute_result"
    }
   ],
   "source": [
    "df = pd.read_csv('placement.csv')\n",
    "df.head()"
   ]
  },
  {
   "cell_type": "code",
   "execution_count": 4,
   "id": "b5dadebd-14c9-4fc7-a893-7ed1cf66ba1f",
   "metadata": {},
   "outputs": [],
   "source": [
    "X = df.iloc[ : , 0].values\n",
    "y = df.iloc[ : , 1].values "
   ]
  },
  {
   "cell_type": "code",
   "execution_count": 47,
   "id": "20ce34cf-5513-40ad-bb28-a06bce4a4c49",
   "metadata": {},
   "outputs": [
    {
     "data": {
      "text/plain": [
       "array([6.89, 5.12, 7.82, 7.42, 6.94, 7.89, 6.73, 6.75, 6.09, 8.31, 5.32,\n",
       "       6.61, 8.94, 6.93, 7.73, 7.25, 6.84, 5.38, 6.94, 7.48, 7.28, 6.85,\n",
       "       6.14, 6.19, 6.53, 7.28, 8.31, 5.42, 5.94, 7.15, 7.36, 8.1 , 6.96,\n",
       "       6.35, 7.34, 6.87, 5.99, 5.9 , 8.62, 7.43, 9.38, 6.89, 5.95, 7.66,\n",
       "       5.09, 7.87, 6.07, 5.84, 8.63, 8.87, 9.58, 9.26, 8.37, 6.47, 6.86,\n",
       "       8.2 , 5.84, 6.6 , 6.92, 7.56, 5.61, 5.48, 6.34, 9.16, 7.36, 7.6 ,\n",
       "       5.11, 6.51, 7.56, 7.3 , 5.79, 7.47, 7.78, 8.44, 6.85, 6.97, 6.94,\n",
       "       8.99, 6.59, 7.18, 7.63, 6.1 , 5.58, 8.44, 4.26, 4.79, 7.61, 8.09,\n",
       "       4.73, 6.42, 7.11, 6.22, 7.9 , 6.79, 5.83, 6.63, 7.11, 5.98, 7.69,\n",
       "       6.61, 7.95, 6.71, 5.13, 7.05, 7.62, 6.66, 6.13, 6.33, 7.76, 7.77,\n",
       "       8.18, 5.42, 8.58, 6.94, 5.84, 8.35, 9.04, 7.12, 7.4 , 7.39, 5.23,\n",
       "       6.5 , 5.12, 5.1 , 6.06, 7.33, 5.91, 6.78, 7.93, 7.29, 6.68, 6.37,\n",
       "       5.84, 6.05, 7.2 , 6.1 , 5.64, 7.14, 7.91, 7.19, 7.91, 6.76, 6.93,\n",
       "       4.85, 6.17, 5.84, 6.07, 5.66, 7.57, 8.28, 6.3 , 6.12, 7.37, 7.94,\n",
       "       7.08, 6.98, 7.38, 6.47, 5.95, 8.71, 7.13, 7.3 , 5.53, 8.93, 9.06,\n",
       "       8.21, 8.6 , 8.13, 8.65, 9.31, 6.22, 8.01, 6.93, 6.75, 7.32, 7.04,\n",
       "       6.29, 7.09, 8.15, 7.14, 6.19, 8.22, 5.88, 7.28, 7.88, 6.31, 7.84,\n",
       "       6.26, 7.35, 8.11, 6.19, 7.28, 8.25, 4.57, 7.89, 6.93, 5.89, 7.21,\n",
       "       7.63, 6.22])"
      ]
     },
     "execution_count": 47,
     "metadata": {},
     "output_type": "execute_result"
    }
   ],
   "source": [
    "X "
   ]
  },
  {
   "cell_type": "code",
   "execution_count": 5,
   "id": "d78a8cc0-18a4-47f5-b5dc-02beda1be461",
   "metadata": {},
   "outputs": [
    {
     "data": {
      "text/plain": [
       "array([3.26, 1.98, 3.25, 3.67, 3.57, 2.99, 2.6 , 2.48, 2.31, 3.51, 1.86,\n",
       "       2.6 , 3.65, 2.89, 3.42, 3.23, 2.35, 2.09, 2.98, 2.83, 3.16, 2.93,\n",
       "       2.3 , 2.48, 2.71, 3.65, 3.42, 2.16, 2.24, 3.49, 3.26, 3.89, 3.08,\n",
       "       2.73, 3.42, 2.87, 2.84, 2.43, 4.36, 3.33, 4.02, 2.7 , 2.54, 2.76,\n",
       "       1.86, 3.58, 2.26, 3.26, 4.09, 4.62, 4.43, 3.79, 4.11, 2.61, 3.09,\n",
       "       3.39, 2.74, 1.94, 3.09, 3.31, 2.19, 1.61, 2.09, 4.25, 2.92, 3.81,\n",
       "       1.63, 2.89, 2.99, 2.94, 2.35, 3.34, 3.62, 4.03, 3.44, 3.28, 3.15,\n",
       "       4.6 , 2.21, 3.  , 3.44, 2.2 , 2.17, 3.49, 1.53, 1.48, 2.77, 3.55,\n",
       "       1.48, 2.72, 2.66, 2.14, 4.  , 3.08, 2.42, 2.79, 2.61, 2.84, 3.83,\n",
       "       3.24, 4.14, 3.52, 1.37, 3.  , 3.74, 2.82, 2.19, 2.59, 3.54, 4.06,\n",
       "       3.76, 2.25, 4.1 , 2.37, 1.87, 4.21, 3.33, 2.99, 2.88, 2.65, 1.73,\n",
       "       3.02, 2.01, 2.3 , 2.31, 3.16, 2.6 , 3.11, 3.34, 3.12, 2.49, 2.01,\n",
       "       2.48, 2.58, 2.83, 2.6 , 2.1 , 3.13, 3.89, 2.4 , 3.15, 3.18, 3.04,\n",
       "       1.54, 2.42, 2.18, 2.46, 2.21, 3.4 , 3.67, 2.73, 2.76, 3.08, 3.99,\n",
       "       2.85, 3.09, 3.13, 2.7 , 3.04, 4.08, 2.93, 3.33, 2.55, 3.91, 3.82,\n",
       "       4.08, 3.98, 3.6 , 3.52, 4.37, 2.87, 3.76, 2.51, 2.56, 2.99, 3.5 ,\n",
       "       3.23, 3.64, 3.63, 3.03, 2.72, 3.89, 2.08, 2.72, 3.14, 3.18, 3.47,\n",
       "       2.44, 3.08, 4.06, 2.69, 3.48, 3.75, 1.94, 3.67, 2.46, 2.57, 3.24,\n",
       "       3.96, 2.33])"
      ]
     },
     "execution_count": 5,
     "metadata": {},
     "output_type": "execute_result"
    }
   ],
   "source": [
    "y "
   ]
  },
  {
   "cell_type": "code",
   "execution_count": 6,
   "id": "adba55f8-a697-47cf-a597-4b682e418a4b",
   "metadata": {},
   "outputs": [],
   "source": [
    "# --- Train-test split ---\n",
    "from sklearn.model_selection import  train_test_split\n",
    "\n",
    "X_train , X_test , y_train , y_test = train_test_split(X , y , test_size = 0.2 , random_state = 2) "
   ]
  },
  {
   "cell_type": "code",
   "execution_count": 7,
   "id": "e93ed621-9fc1-43a1-81ba-0c4de8cf37df",
   "metadata": {},
   "outputs": [
    {
     "data": {
      "text/plain": [
       "array([3.13, 3.91, 2.25, 2.3 , 4.06, 3.18, 2.7 , 2.49, 3.15, 2.99, 4.08,\n",
       "       4.14, 2.6 , 2.44, 2.71, 2.72, 1.63, 2.31, 2.51, 3.5 , 2.24, 2.58,\n",
       "       2.42, 2.54, 4.37, 2.17, 3.14, 2.19, 3.54, 1.54, 2.72, 3.98, 2.46,\n",
       "       3.  , 1.98, 2.65, 3.75, 3.67, 2.93, 3.08, 2.21, 2.84, 3.76, 3.03,\n",
       "       2.09, 3.26, 2.16, 2.7 , 3.83, 2.88, 3.16, 3.04, 3.13, 3.04, 4.6 ,\n",
       "       3.26, 2.85, 2.09, 3.31, 3.89, 1.87, 3.11, 2.4 , 3.48, 3.08, 2.76,\n",
       "       2.93, 3.39, 2.35, 3.08, 2.14, 3.24, 1.73, 3.24, 3.44, 2.69, 3.33,\n",
       "       2.42, 2.57, 3.55, 2.66, 1.53, 2.98, 2.84, 3.52, 3.16, 3.82, 2.6 ,\n",
       "       1.61, 2.2 , 2.99, 3.12, 2.74, 2.83, 2.77, 2.35, 2.19, 3.42, 4.02,\n",
       "       3.89, 3.15, 3.99, 3.42, 3.08, 2.46, 2.61, 3.49, 3.76, 2.82, 4.03,\n",
       "       2.99, 2.73, 2.18, 3.09, 3.96, 2.1 , 3.33, 4.62, 3.47, 2.48, 4.43,\n",
       "       4.11, 3.44, 3.18, 3.02, 4.06, 2.26, 1.48, 2.94, 2.89, 2.72, 3.09,\n",
       "       2.73, 4.36, 3.  , 3.79, 2.59, 2.87, 3.57, 1.37, 3.6 , 2.43, 3.33,\n",
       "       2.31, 3.4 , 3.89, 4.25, 3.26, 3.67, 2.79, 3.64, 2.55, 2.48, 3.74,\n",
       "       3.28, 2.76, 2.3 , 3.62, 3.23, 3.52])"
      ]
     },
     "execution_count": 7,
     "metadata": {},
     "output_type": "execute_result"
    }
   ],
   "source": [
    "y_train"
   ]
  },
  {
   "cell_type": "code",
   "execution_count": 9,
   "id": "ecc0c98a-7299-47fa-8b66-1e33d6f530c6",
   "metadata": {},
   "outputs": [
    {
     "name": "stdout",
     "output_type": "stream",
     "text": [
      "Iteration = 0 - m : 0.04325971874999999 - b = 0.006007875\n",
      "Iteration = 20 - m : 0.38005731499038725 - b = 0.05225316617240961\n",
      "Iteration = 40 - m : 0.41937825534710826 - b = 0.056887927284660245\n",
      "Iteration = 60 - m : 0.4240615169140111 - b = 0.05667830859813803\n",
      "Iteration = 80 - m : 0.4247115433907738 - b = 0.05590528635631451\n",
      "Iteration = 100 - m : 0.4248918549362763 - b = 0.05506732825897218\n",
      "Iteration = 120 - m : 0.42501738077734563 - b = 0.05422247429385271\n",
      "Iteration = 140 - m : 0.4251364345241412 - b = 0.05337748192929727\n",
      "Iteration = 160 - m : 0.4252546417992468 - b = 0.05253313740041286\n",
      "Iteration = 180 - m : 0.42537265772146987 - b = 0.05168953166440392\n",
      "Iteration = 200 - m : 0.4254905586540481 - b = 0.05084667472223462\n",
      "Iteration = 220 - m : 0.4256083535710078 - b = 0.050004567149011504\n",
      "Iteration = 240 - m : 0.4257260435996369 - b = 0.04916320842283719\n",
      "Iteration = 260 - m : 0.42584362895349204 - b = 0.04832259789460508\n",
      "Iteration = 280 - m : 0.42596110973966317 - b = 0.04748273490091975\n",
      "Iteration = 300 - m : 0.42607848605277066 - b = 0.04664361877724476\n",
      "Iteration = 320 - m : 0.42619575798590975 - b = 0.04580524885943302\n",
      "Iteration = 340 - m : 0.4263129256319252 - b = 0.04496762448390465\n",
      "Iteration = 360 - m : 0.4264299890835595 - b = 0.04413074498766712\n",
      "Iteration = 380 - m : 0.42654694843347074 - b = 0.043294609708317146\n",
      "Iteration = 400 - m : 0.4266638037742339 - b = 0.04245921798404051\n",
      "Iteration = 420 - m : 0.42678055519834207 - b = 0.041624569153611485\n",
      "Iteration = 440 - m : 0.4268972027982056 - b = 0.04079066255639235\n",
      "Iteration = 460 - m : 0.42701374666615305 - b = 0.03995749753233292\n",
      "Iteration = 480 - m : 0.42713018689443055 - b = 0.03912507342196994\n",
      "Iteration = 500 - m : 0.42724652357520265 - b = 0.0382933895664266\n",
      "Iteration = 520 - m : 0.4273627568005514 - b = 0.03746244530741204\n",
      "Iteration = 540 - m : 0.4274788866624774 - b = 0.03663223998722076\n",
      "Iteration = 560 - m : 0.42759491325289933 - b = 0.03580277294873217\n",
      "Iteration = 580 - m : 0.42771083666365384 - b = 0.034974043535410074\n",
      "Iteration = 600 - m : 0.4278266569864962 - b = 0.03414605109130205\n",
      "Iteration = 620 - m : 0.42794237431310017 - b = 0.03331879496103905\n",
      "Iteration = 640 - m : 0.4280579887350576 - b = 0.032492274489834806\n",
      "Iteration = 660 - m : 0.42817350034387947 - b = 0.031666489023485324\n",
      "Iteration = 680 - m : 0.4282889092309946 - b = 0.03084143790836839\n",
      "Iteration = 700 - m : 0.4284042154877513 - b = 0.030017120491443082\n",
      "Iteration = 720 - m : 0.42851941920541625 - b = 0.02919353612024915\n",
      "Iteration = 740 - m : 0.42863452047517475 - b = 0.028370684142906593\n",
      "Iteration = 760 - m : 0.42874951938813155 - b = 0.027548563908115106\n",
      "Iteration = 780 - m : 0.42886441603531 - b = 0.02672717476515354\n",
      "Iteration = 800 - m : 0.42897921050765264 - b = 0.025906516063879458\n",
      "Iteration = 820 - m : 0.4290939028960209 - b = 0.025086587154728567\n",
      "Iteration = 840 - m : 0.42920849329119587 - b = 0.024267387388714236\n",
      "Iteration = 860 - m : 0.4293229817838775 - b = 0.02344891611742693\n",
      "Iteration = 880 - m : 0.4294373684646854 - b = 0.022631172693033746\n",
      "Iteration = 900 - m : 0.42955165342415824 - b = 0.02181415646827788\n",
      "Iteration = 920 - m : 0.42966583675275444 - b = 0.020997866796478092\n",
      "Iteration = 940 - m : 0.42977991854085196 - b = 0.020182303031528265\n",
      "Iteration = 960 - m : 0.42989389887874824 - b = 0.019367464527896824\n",
      "Iteration = 980 - m : 0.4300077778566606 - b = 0.018553350640626243\n"
     ]
    }
   ],
   "source": [
    "# --- Train your model ---\n",
    "model = LinearRegression()\n",
    "model.gradient_descent(X_train , y_train , learning_rate = 0.001 , epochs = 1000)"
   ]
  },
  {
   "cell_type": "code",
   "execution_count": 10,
   "id": "807b80ea-2f81-4fd3-bfcc-29b9d8d656ac",
   "metadata": {},
   "outputs": [
    {
     "name": "stdout",
     "output_type": "stream",
     "text": [
      "m = 0.430115869083091\n",
      "b = 0.017780613036703946\n"
     ]
    }
   ],
   "source": [
    "m = model.m\n",
    "b = model.b \n",
    "print(f\"m = {m}\")\n",
    "print(f\"b = {b}\")"
   ]
  },
  {
   "cell_type": "code",
   "execution_count": 11,
   "id": "ec8d9e84-07e6-4aa5-8da7-ae8c15e5679b",
   "metadata": {},
   "outputs": [],
   "source": [
    "y_pred = model.predict(X_test)"
   ]
  },
  {
   "cell_type": "code",
   "execution_count": 56,
   "id": "698b8ece-f87b-4890-92f0-d8e423b6c26d",
   "metadata": {},
   "outputs": [
    {
     "data": {
      "text/plain": [
       "np.float64(4.1)"
      ]
     },
     "execution_count": 56,
     "metadata": {},
     "output_type": "execute_result"
    }
   ],
   "source": [
    "y_test[0]"
   ]
  },
  {
   "cell_type": "code",
   "execution_count": 57,
   "id": "cd6580c9-2c93-4be9-bb05-4fd40d564af5",
   "metadata": {},
   "outputs": [
    {
     "data": {
      "text/plain": [
       "np.float64(3.7081747697696246)"
      ]
     },
     "execution_count": 57,
     "metadata": {},
     "output_type": "execute_result"
    }
   ],
   "source": [
    "y_pred[0]"
   ]
  },
  {
   "cell_type": "code",
   "execution_count": 58,
   "id": "d069da59-cf36-4acb-afdc-7d0e1d93fea0",
   "metadata": {},
   "outputs": [
    {
     "name": "stdout",
     "output_type": "stream",
     "text": [
      "MAE: 0.33544554080376293\n",
      "MSE: 0.15915801113153374\n",
      "RMSE: 0.3989461256003544\n",
      "R² Score: 0.7122773800544345\n"
     ]
    }
   ],
   "source": [
    "# ---  Print metrics ---\n",
    "print(\"MAE:\", model.mae(y_test , y_pred))\n",
    "print(\"MSE:\", model.mse(y_test, y_pred))\n",
    "print(\"RMSE:\", model.rmse(y_test, y_pred))\n",
    "print(\"R² Score:\", model.r2_score(y_test, y_pred))"
   ]
  },
  {
   "cell_type": "code",
   "execution_count": null,
   "id": "9ada88b1-e850-49df-ac49-b81633fa587c",
   "metadata": {},
   "outputs": [],
   "source": []
  }
 ],
 "metadata": {
  "kernelspec": {
   "display_name": "base",
   "language": "python",
   "name": "python3"
  },
  "language_info": {
   "codemirror_mode": {
    "name": "ipython",
    "version": 3
   },
   "file_extension": ".py",
   "mimetype": "text/x-python",
   "name": "python",
   "nbconvert_exporter": "python",
   "pygments_lexer": "ipython3",
   "version": "3.12.7"
  },
  "widgets": {
   "application/vnd.jupyter.widget-state+json": {
    "state": {},
    "version_major": 2,
    "version_minor": 0
   }
  }
 },
 "nbformat": 4,
 "nbformat_minor": 5
}
