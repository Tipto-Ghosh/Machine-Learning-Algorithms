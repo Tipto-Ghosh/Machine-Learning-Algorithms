{
 "cells": [
  {
   "cell_type": "code",
   "execution_count": 1,
   "id": "d4f91f3a-0752-4014-83ec-2d18ea21c6c7",
   "metadata": {},
   "outputs": [],
   "source": [
    "%config IPCompleter.use_jedi = False\n",
    "%config Completer.evaluation = 'limited'\n",
    "import warnings\n",
    "warnings.filterwarnings('ignore')"
   ]
  },
  {
   "cell_type": "code",
   "execution_count": 2,
   "id": "fd9fa51d-f207-4840-a00c-9ba269a26d52",
   "metadata": {},
   "outputs": [],
   "source": [
    "import numpy as np \n",
    "import pandas as pd \n",
    "import matplotlib.pyplot as plt \n",
    "import seaborn as sns "
   ]
  },
  {
   "cell_type": "markdown",
   "id": "15d556f6-ffc0-442f-9c18-9e1359be74b2",
   "metadata": {},
   "source": [
    "## Let's implement polynomial regression just for 1 single input variable\n",
    "\n",
    "### Steps to do: \n",
    " 1. Generate or load input data (just one feature for now)\n",
    " 2. Add quadratic polynomial features: X --> 1 , X , X^2\n",
    " 3. Define cost function (Mean Squared Error).\n",
    " 4. Use Gradient Descent to minimize the cost.\n",
    " 5. Predict new values "
   ]
  },
  {
   "cell_type": "code",
   "execution_count": 3,
   "id": "2a21c1dc-6049-4201-86d0-781c9cc334c0",
   "metadata": {},
   "outputs": [],
   "source": [
    "# Step 1: Generate toy data (y = 3x^2 + 2x + 1 + noise)\n",
    "np.random.seed(0)\n",
    "\n",
    "# make a single col X\n",
    "X = 2 * np.random.rand(100 , 1)\n",
    "y = 3 * X**2 + 2 * X + 1 + np.random.randn(100, 1) * 0.5"
   ]
  },
  {
   "cell_type": "code",
   "execution_count": 4,
   "id": "cf048794-8041-4911-b725-dcd1b6c9a3e8",
   "metadata": {},
   "outputs": [
    {
     "data": {
      "image/png": "[encoded data removed]",
      "text/plain": [
       "<Figure size 640x480 with 1 Axes>"
      ]
     },
     "metadata": {},
     "output_type": "display_data"
    }
   ],
   "source": [
    "# Let's see the data distributions\n",
    "plt.scatter(X , y , color = 'r')\n",
    "plt.show()"
   ]
  },
  {
   "cell_type": "markdown",
   "id": "cb9cd96b-b796-44d1-b400-79e2b8143ec8",
   "metadata": {},
   "source": [
    "## Let's make a ploynomial class for a single input variable"
   ]
  },
  {
   "cell_type": "code",
   "execution_count": 5,
   "id": "ded64049-7b31-4953-a225-52cfe83755c7",
   "metadata": {},
   "outputs": [],
   "source": [
    "class QuadraticPolynomialRegressionSingleInput:\n",
    "    ''' \n",
    "    Here our main objective is to predict the value of y based a single feature X. \n",
    "    We will use a Quadratice equation and then we will use Gradient Descent.\n",
    "\n",
    "    - workflow:\n",
    "    1. make a prepare feature method.\n",
    "    2. make  a fit and a predict method.\n",
    "    3. for the fit method define a cost function, MSE(Mean Sqaure Error)\n",
    "    4. use Gradient Descent to minimize the cost function.\n",
    "    5. then make a predict method\n",
    "    '''\n",
    "\n",
    "    # constructor\n",
    "    def __init__(self , degree = 2 , learning_rate = 0.01 , epochs = 100):\n",
    "        self.degree = degree\n",
    "        self.learning_rate = learning_rate\n",
    "        self.epochs = epochs\n",
    "        self.coeffs_ = None \n",
    "    \n",
    "    def _transfer(self , X):\n",
    "        \"\"\"\n",
    "        Transforms input vector X into a polynomial feature matrix up to given degree.\n",
    "        general X = [X^2 , X , 1]\n",
    "        Example: x = [1, 2] with degree 2 => X_poly = [[1^2, 1, 1], [2^2, 2, 1]]\n",
    "        \"\"\"\n",
    "        X = X.reshape(-1 , 1) \n",
    "        X_poly = np.hstack([X**power for power in range(self.degree , -1 , -1)]) # for degree = 2 it will be like [X^2 X^1 X^0]\n",
    "        return X_poly\n",
    "    # Make the fit method\n",
    "    def fit(self , X , y):\n",
    "        \"\"\" \n",
    "        Here we will do the gradient descent part.\n",
    "        1. find the polynomial features of X\n",
    "        2. initialize coeff_ with any random value. for example: 0\n",
    "        3. Do the iteration to minimize the error.\n",
    "        4. At each iteration find target based on current coeff and X_poly\n",
    "        5. Update coeff\n",
    "        \"\"\"\n",
    "        X_poly = self._transfer(X)\n",
    "        m , n = X_poly.shape\n",
    "\n",
    "        self.coeffs_ = np.zeros(n) # for n rows there will be n theta: 1 , theta_1 to theta_n-1\n",
    "\n",
    "        for epoch in range(self.epochs):\n",
    "            y_pred = X_poly.dot(self.coeffs_)\n",
    "            error = y_pred - y \n",
    "            # find the gradients.\n",
    "            gradients = (1/m) * ((X_poly.T).dot(error))\n",
    "            # update coeff\n",
    "            self.coeffs_ = self.coeffs_ - self.learning_rate * gradients\n",
    "\n",
    "    # make the predict function\n",
    "    def predict(self , X):\n",
    "        # transform X to X_poly\n",
    "        X_poly = self._transfer(X)\n",
    "        # find the y values\n",
    "        y_pred = X_poly.dot(self.coeffs_)\n",
    "        return y_pred"
   ]
  },
  {
   "cell_type": "markdown",
   "id": "b9805ee7-8d0c-4e45-8bbe-233c3f104249",
   "metadata": {},
   "source": [
    "### let's predict for out Data "
   ]
  },
  {
   "cell_type": "code",
   "execution_count": 6,
   "id": "15fee945-6f04-489d-82a7-a973ae9b2283",
   "metadata": {},
   "outputs": [],
   "source": [
    "# Generate some synthetic quadratic data: y = 2x^2 + 3x + 5\n",
    "np.random.seed(42)\n",
    "X = np.linspace(-3, 3, 100)\n",
    "y = 2 * X**2 + 3 * X + 5 + np.random.randn(100) * 2  # Add some noise"
   ]
  },
  {
   "cell_type": "code",
   "execution_count": 9,
   "id": "2835dce0-8011-47e1-a030-e56958a408c0",
   "metadata": {},
   "outputs": [],
   "source": [
    "model = QuadraticPolynomialRegressionSingleInput(degree = 2 , learning_rate = 0.01 , epochs = 1000)\n",
    "model.fit(X, y)\n",
    "y_pred = model.predict(X)"
   ]
  },
  {
   "cell_type": "code",
   "execution_count": 10,
   "id": "53510f81-547f-4556-86f5-947208caf8f4",
   "metadata": {},
   "outputs": [
    {
     "data": {
      "image/png": "[encoded data removed]",
      "text/plain": [
       "<Figure size 640x480 with 1 Axes>"
      ]
     },
     "metadata": {},
     "output_type": "display_data"
    }
   ],
   "source": [
    "# let's plot the model's prediction\n",
    "plt.scatter(X, y, label='Data')\n",
    "plt.plot(X, y_pred, color='red', label='Prediction')\n",
    "plt.legend()\n",
    "plt.title(\"Quadratic Polynomial Regression\")\n",
    "plt.show()"
   ]
  },
  {
   "cell_type": "code",
   "execution_count": null,
   "id": "ec56b3fc-0ba1-4246-902c-5bda3899981b",
   "metadata": {},
   "outputs": [],
   "source": []
  },
  {
   "cell_type": "markdown",
   "id": "8d04bd4a-82b0-4735-9007-b4849a19fa1c",
   "metadata": {},
   "source": [
    "## Let’s now generalize Polynomial Regression to handle multi-column input 𝑋"
   ]
  },
  {
   "cell_type": "code",
   "execution_count": 11,
   "id": "718a5e50-17b1-46ce-bdbe-38e18c7883ab",
   "metadata": {},
   "outputs": [],
   "source": [
    "class PolynomialRegressionMulti:\n",
    "    def __init__(self, degree=2, learning_rate=0.01, epochs=1000):\n",
    "        self.degree = degree\n",
    "        self.learning_rate = learning_rate\n",
    "        self.epochs = epochs\n",
    "        self.coeff_ = None\n",
    "\n",
    "    def _transform(self, X):\n",
    "        \"\"\"\n",
    "        Transforms multi-column X into polynomial features of each column up to given degree.\n",
    "        For example, if X has 2 columns [x1, x2] and degree=2:\n",
    "        output: [x1^2, x1^1, x1^0, x2^2, x2^1, x2^0]\n",
    "        \"\"\"\n",
    "        m, n = X.shape\n",
    "        X_poly = []\n",
    "\n",
    "        for i in range(n):  # For each feature/column\n",
    "            col = X[:, i].reshape(-1, 1)\n",
    "            poly_features = [col**d for d in range(self.degree, -1, -1)]  # x^d, ..., x^1, x^0\n",
    "            X_poly.append(np.hstack(poly_features))\n",
    "\n",
    "        return np.hstack(X_poly)  # shape: (m, n * (degree + 1))\n",
    "\n",
    "    def fit(self, X, y):\n",
    "        X_poly = self._transform(X)\n",
    "        m, n = X_poly.shape\n",
    "        self.coeff_ = np.zeros(n)\n",
    "\n",
    "        for _ in range(self.epochs):\n",
    "            y_pred = X_poly.dot(self.coeff_)\n",
    "            error = y_pred - y\n",
    "            gradients = (1 / m) * X_poly.T.dot(error)\n",
    "            self.coeff_ -= self.learning_rate * gradients\n",
    "\n",
    "    def predict(self, X):\n",
    "        X_poly = self._transform(X)\n",
    "        return X_poly.dot(self.coeff_)"
   ]
  },
  {
   "cell_type": "code",
   "execution_count": 12,
   "id": "d9c17ab8-9154-4ef9-a27b-946dc2d387ba",
   "metadata": {},
   "outputs": [],
   "source": [
    "# Create 2 features: x1 and x2\n",
    "np.random.seed(0)\n",
    "m = 100\n",
    "x1 = np.linspace(-3, 3, m)\n",
    "x2 = np.random.uniform(-2, 2, m)\n",
    "X_multi = np.column_stack((x1, x2))"
   ]
  },
  {
   "cell_type": "code",
   "execution_count": 13,
   "id": "2240e6f6-4082-4c9d-bf01-270797fe20c7",
   "metadata": {},
   "outputs": [],
   "source": [
    "# True function: y = 2x1^2 + 3x1 + 4x2^2 + 1x2 + 5 + noise\n",
    "y = 2 * x1**2 + 3 * x1 + 4 * x2**2 + 1 * x2 + 5 + np.random.randn(m) * 2"
   ]
  },
  {
   "cell_type": "code",
   "execution_count": 15,
   "id": "f15531cf-9315-458c-9f88-62d2db30dd34",
   "metadata": {},
   "outputs": [],
   "source": [
    "model = PolynomialRegressionMulti(degree=2, learning_rate=0.01, epochs=1000)\n",
    "model.fit(X_multi, y)\n",
    "y_pred = model.predict(X_multi)"
   ]
  },
  {
   "cell_type": "code",
   "execution_count": 16,
   "id": "8b0d4108-97b0-4b74-a7a9-9e72fe75ec36",
   "metadata": {},
   "outputs": [
    {
     "name": "stdout",
     "output_type": "stream",
     "text": [
      "r2 score: 0.953720672049342\n",
      "MSE: 3.7283137241005897\n"
     ]
    }
   ],
   "source": [
    "from sklearn.metrics import mean_squared_error , r2_score\n",
    "\n",
    "print(\"r2 score:\", r2_score(y, y_pred))\n",
    "print(\"MSE:\", mean_squared_error(y, y_pred))"
   ]
  },
  {
   "cell_type": "code",
   "execution_count": null,
   "id": "44d74c7d-843c-4cda-ae02-ffc2dc00e34d",
   "metadata": {},
   "outputs": [],
   "source": []
  }
 ],
 "metadata": {
  "kernelspec": {
   "display_name": "Python 3 (ipykernel)",
   "language": "python",
   "name": "python3"
  },
  "language_info": {
   "codemirror_mode": {
    "name": "ipython",
    "version": 3
   },
   "file_extension": ".py",
   "mimetype": "text/x-python",
   "name": "python",
   "nbconvert_exporter": "python",
   "pygments_lexer": "ipython3",
   "version": "3.12.7"
  },
  "widgets": {
   "application/vnd.jupyter.widget-state+json": {
    "state": {},
    "version_major": 2,
    "version_minor": 0
   }
  }
 },
 "nbformat": 4,
 "nbformat_minor": 5
}
